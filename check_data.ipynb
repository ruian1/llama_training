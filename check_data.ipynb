{
 "cells": [
  {
   "cell_type": "code",
   "execution_count": null,
   "id": "e68bdbba-7fd8-4f06-b43b-de0320609852",
   "metadata": {
    "vscode": {
     "languageId": "python"
    }
   },
   "outputs": [],
   "source": [
    "import json\n",
    "import pandas as pd"
   ]
  },
  {
   "cell_type": "code",
   "execution_count": null,
   "id": "bfbe9e03-b738-4beb-8f04-e2ef6da0e90e",
   "metadata": {
    "vscode": {
     "languageId": "python"
    }
   },
   "outputs": [],
   "source": [
    "data = \"data/train_data_3_pos_3_neg_10000_req_parsed.json\""
   ]
  },
  {
   "cell_type": "code",
   "execution_count": null,
   "id": "ede5df37-3eec-4dee-992d-a1faa65c1a9e",
   "metadata": {
    "vscode": {
     "languageId": "python"
    }
   },
   "outputs": [],
   "source": [
    "with open(data, 'r') as f:    \n",
    "    entries = [json.loads(line) for line in f.readlines()]"
   ]
  },
  {
   "cell_type": "code",
   "execution_count": null,
   "id": "671c367c-ff47-4e36-8d42-84e94ffcb8b2",
   "metadata": {
    "vscode": {
     "languageId": "python"
    }
   },
   "outputs": [],
   "source": [
    "entries[0].keys()"
   ]
  },
  {
   "cell_type": "code",
   "execution_count": null,
   "id": "d0ed47fa-38fb-4e7b-94cc-ef088ded205a",
   "metadata": {
    "vscode": {
     "languageId": "python"
    }
   },
   "outputs": [],
   "source": [
    "train_df = pd.DataFrame(entries, columns=entries[0].keys())"
   ]
  },
  {
   "cell_type": "code",
   "execution_count": null,
   "id": "05b8f067-6291-49b2-a740-90f3af0efc46",
   "metadata": {
    "vscode": {
     "languageId": "python"
    }
   },
   "outputs": [],
   "source": [
    "train_df"
   ]
  },
  {
   "cell_type": "code",
   "execution_count": null,
   "id": "6a4602f8-c0f2-41da-bb93-50f30424cf0b",
   "metadata": {
    "vscode": {
     "languageId": "python"
    }
   },
   "outputs": [],
   "source": [
    "train_df['jd_reusme'] = train_df['astask'] + \"\\n\" + train_df['profile']\n",
    "train_df = train_df.dropna(axis=0)"
   ]
  },
  {
   "cell_type": "code",
   "execution_count": null,
   "id": "f60aa5c8-6ea4-4d96-a361-fe84df1ebfe5",
   "metadata": {
    "vscode": {
     "languageId": "python"
    }
   },
   "outputs": [],
   "source": [
    "from transformers import GPT2Tokenizer"
   ]
  },
  {
   "cell_type": "code",
   "execution_count": null,
   "id": "06fefdfa-1df0-4b32-8bbb-779d205b764a",
   "metadata": {
    "vscode": {
     "languageId": "python"
    }
   },
   "outputs": [],
   "source": [
    "tokenizer = GPT2Tokenizer.from_pretrained(\"gpt2\")"
   ]
  },
  {
   "cell_type": "code",
   "execution_count": null,
   "id": "30ca1956-2066-4008-a70b-d39978e1279f",
   "metadata": {
    "vscode": {
     "languageId": "python"
    }
   },
   "outputs": [],
   "source": [
    "text = \"This is an example sentence.\"\n",
    "encoded_text = tokenizer.encode(text)\n",
    "token_count = len(encoded_text)\n",
    "\n",
    "print(f\"Token count: {token_count}\")"
   ]
  },
  {
   "cell_type": "code",
   "execution_count": null,
   "id": "e278487a-d85c-46c1-b405-895a59d635d1",
   "metadata": {
    "vscode": {
     "languageId": "python"
    }
   },
   "outputs": [],
   "source": [
    "!pip install matplotlib"
   ]
  },
  {
   "cell_type": "code",
   "execution_count": null,
   "id": "705b2061-5f9f-4e9d-aa7d-d4617fd6e97a",
   "metadata": {
    "vscode": {
     "languageId": "python"
    }
   },
   "outputs": [],
   "source": [
    "def count_tokens(text):\n",
    "    encoded_text = tokenizer.encode(text)\n",
    "    return len(encoded_text)"
   ]
  },
  {
   "cell_type": "code",
   "execution_count": null,
   "id": "2eef402a-3b5d-4074-bb36-33d5284b4d0e",
   "metadata": {
    "vscode": {
     "languageId": "python"
    }
   },
   "outputs": [],
   "source": [
    "train_df[\"token_count\"] = train_df[\"jd_reusme\"].apply(count_tokens)"
   ]
  },
  {
   "cell_type": "code",
   "execution_count": null,
   "id": "550d91a5-fd20-488a-b820-2db163af390b",
   "metadata": {
    "vscode": {
     "languageId": "python"
    }
   },
   "outputs": [],
   "source": [
    "import matplotlib.pyplot as plt"
   ]
  },
  {
   "cell_type": "code",
   "execution_count": null,
   "id": "fefb1c93-fce7-4178-8196-d744a01b2846",
   "metadata": {
    "vscode": {
     "languageId": "python"
    }
   },
   "outputs": [],
   "source": [
    "plt.hist(train_df[\"token_count\"], bins='auto', alpha=0.7, color='blue')\n",
    "plt.xlabel(\"Token count\")\n",
    "plt.ylabel(\"Frequency\")\n",
    "plt.title(\"Histogram of Token Counts\")\n",
    "plt.grid(True)\n",
    "plt.xlim((0,1200))\n",
    "plt.show()"
   ]
  },
  {
   "cell_type": "code",
   "execution_count": null,
   "id": "cdcc16dd-bbdb-412c-a294-abde41e37b52",
   "metadata": {
    "vscode": {
     "languageId": "python"
    }
   },
   "outputs": [],
   "source": []
  },
  {
   "cell_type": "code",
   "execution_count": null,
   "id": "cd3c3c91-b76e-492b-a413-a23fcaeb7daa",
   "metadata": {
    "vscode": {
     "languageId": "python"
    }
   },
   "outputs": [],
   "source": [
    "from sklearn.model_selection import train_test_split"
   ]
  },
  {
   "cell_type": "code",
   "execution_count": null,
   "id": "6b09f3f0-ce5a-4c95-8fc4-51de782795d1",
   "metadata": {
    "vscode": {
     "languageId": "python"
    }
   },
   "outputs": [],
   "source": [
    "train_data, valid_data = train_test_split(train_df, test_size=0.1, random_state=42)"
   ]
  },
  {
   "cell_type": "code",
   "execution_count": null,
   "id": "08902d7e-e761-42c3-913b-43a0d2aba9eb",
   "metadata": {
    "vscode": {
     "languageId": "python"
    }
   },
   "outputs": [],
   "source": [
    "valid_data"
   ]
  },
  {
   "cell_type": "code",
   "execution_count": null,
   "id": "f3d6b993-4621-4f38-92f5-c60be6af8a25",
   "metadata": {
    "vscode": {
     "languageId": "python"
    }
   },
   "outputs": [],
   "source": []
  },
  {
   "cell_type": "code",
   "execution_count": null,
   "id": "c773d3e2-cd4e-4877-aac1-01d162447fa0",
   "metadata": {
    "vscode": {
     "languageId": "python"
    }
   },
   "outputs": [],
   "source": [
    "import pandas as pd"
   ]
  },
  {
   "cell_type": "code",
   "execution_count": null,
   "id": "f91bbf03-bc23-4be0-942a-95a7771d1d9b",
   "metadata": {
    "vscode": {
     "languageId": "python"
    }
   },
   "outputs": [],
   "source": [
    "data = \"data/train_data_01_4_200.csv\""
   ]
  },
  {
   "cell_type": "code",
   "execution_count": null,
   "id": "9d9ae80c-f171-4d9f-a998-04c5c6991b13",
   "metadata": {
    "vscode": {
     "languageId": "python"
    }
   },
   "outputs": [],
   "source": [
    "train_df = pd.read_csv(data, delimiter=\"$\")"
   ]
  },
  {
   "cell_type": "code",
   "execution_count": null,
   "id": "87b1a999-b04e-4cfa-8c0c-41248c6d3269",
   "metadata": {
    "vscode": {
     "languageId": "python"
    }
   },
   "outputs": [],
   "source": [
    "train_df.head(64).to_csv('data/small.csv', sep='$', index=False)"
   ]
  },
  {
   "cell_type": "code",
   "execution_count": null,
   "id": "7defb4b1-d0d9-45b2-b734-4b29ad61723e",
   "metadata": {
    "vscode": {
     "languageId": "python"
    }
   },
   "outputs": [],
   "source": [
    "train_df.index.size"
   ]
  },
  {
   "cell_type": "code",
   "execution_count": null,
   "id": "bd199668-a933-4b39-8129-9a51d347fa57",
   "metadata": {
    "vscode": {
     "languageId": "python"
    }
   },
   "outputs": [],
   "source": [
    "train_df['jd_reusme'] = train_df['query'] + \"\\n\" + train_df['resume']\n",
    "train_df = train_df.dropna(axis=0)"
   ]
  },
  {
   "cell_type": "code",
   "execution_count": null,
   "id": "9453925d-ec36-41d6-bcd1-9e78e27df985",
   "metadata": {
    "vscode": {
     "languageId": "python"
    }
   },
   "outputs": [],
   "source": [
    "nan_age_df = train_df[train_df['jd_reusme'].isna()]\n",
    "nan_age_df"
   ]
  },
  {
   "cell_type": "code",
   "execution_count": null,
   "id": "fc261b68-c7ad-4c18-9082-aa5923787266",
   "metadata": {
    "vscode": {
     "languageId": "python"
    }
   },
   "outputs": [],
   "source": [
    "train_data, valid_data = train_test_split(train_df, test_size=0.2, random_state=42)\n",
    "train_texts, train_labels = train_data['jd_reusme'].tolist(), train_data['label'].tolist()\n",
    "valid_texts, valid_labels = valid_data['jd_reusme'].tolist(), valid_data['label'].tolist()"
   ]
  },
  {
   "cell_type": "code",
   "execution_count": null,
   "id": "f963124d-f57d-4fe0-8a6f-5d32316a8ef9",
   "metadata": {
    "vscode": {
     "languageId": "python"
    }
   },
   "outputs": [],
   "source": [
    "tokenizer = LlamaTokenizer.from_pretrained(\"/home/ubuntu/ranking_llama/weights/tokenizer/\")\n",
    "tokenizer.add_special_tokens({\"pad_token\": \"<pad>\"})"
   ]
  },
  {
   "cell_type": "code",
   "execution_count": null,
   "id": "ddd7b2ef-cb1f-43d1-8afb-19b418f80edb",
   "metadata": {
    "vscode": {
     "languageId": "python"
    }
   },
   "outputs": [],
   "source": [
    "MAX_LENGTH = 512\n",
    "train_dataset = BinaryClassificationDataset(train_data, tokenizer, max_length=MAX_LENGTH)\n",
    "valid_dataset = BinaryClassificationDataset(valid_data, tokenizer, max_length=MAX_LENGTH)"
   ]
  },
  {
   "cell_type": "code",
   "execution_count": null,
   "id": "b098e311-bcf7-4926-ac34-1f1428d1b6a9",
   "metadata": {
    "vscode": {
     "languageId": "python"
    }
   },
   "outputs": [],
   "source": [
    "batch_size=1\n",
    "train_dataloader = DataLoader(train_dataset, sampler=RandomSampler(train_dataset), batch_size=batch_size)\n",
    "valid_dataloader = DataLoader(valid_dataset, batch_size=batch_size)"
   ]
  },
  {
   "cell_type": "code",
   "execution_count": null,
   "id": "15309e3f-cbbb-4e21-b0fc-4b74f852dd12",
   "metadata": {
    "vscode": {
     "languageId": "python"
    }
   },
   "outputs": [],
   "source": [
    "# for i, batch in enumerate(train_dataloader):\n",
    "#     print(f\"Batch {i}: {batch}\")\n",
    "#     break"
   ]
  },
  {
   "cell_type": "code",
   "execution_count": null,
   "id": "c96a7072-876f-4ec6-a144-58702f014d58",
   "metadata": {
    "vscode": {
     "languageId": "python"
    }
   },
   "outputs": [],
   "source": []
  },
  {
   "cell_type": "code",
   "execution_count": null,
   "id": "e4cc837d-35f4-4e7e-abed-d5257867a5d8",
   "metadata": {
    "vscode": {
     "languageId": "python"
    }
   },
   "outputs": [],
   "source": []
  }
 ],
 "metadata": {
  "kernelspec": {
   "display_name": "",
   "name": ""
  },
  "language_info": {
   "name": ""
  }
 },
 "nbformat": 4,
 "nbformat_minor": 5
}
