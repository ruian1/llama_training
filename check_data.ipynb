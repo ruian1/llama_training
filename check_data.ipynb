{
 "cells": [
  {
   "cell_type": "code",
   "execution_count": null,
   "id": "e68bdbba-7fd8-4f06-b43b-de0320609852",
   "metadata": {},
   "outputs": [],
   "source": [
    "import json\n",
    "import pandas as pd"
   ]
  },
  {
   "cell_type": "code",
   "execution_count": null,
   "id": "bfbe9e03-b738-4beb-8f04-e2ef6da0e90e",
   "metadata": {},
   "outputs": [],
   "source": [
    "data = \"data/train_data_3_pos_3_neg_10000_req_parsed.json\""
   ]
  },
  {
   "cell_type": "code",
   "execution_count": null,
   "id": "ede5df37-3eec-4dee-992d-a1faa65c1a9e",
   "metadata": {},
   "outputs": [],
   "source": [
    "with open(data, 'r') as f:    \n",
    "    entries = [json.loads(line) for line in f.readlines()]"
   ]
  },
  {
   "cell_type": "code",
   "execution_count": null,
   "id": "671c367c-ff47-4e36-8d42-84e94ffcb8b2",
   "metadata": {},
   "outputs": [
    {
     "data": {
      "text/plain": [
       "dict_keys(['astask', 'profile', 'label'])"
      ]
     },
     "execution_count": 4,
     "metadata": {},
     "output_type": "execute_result"
    }
   ],
   "source": [
    "entries[0].keys()"
   ]
  },
  {
   "cell_type": "code",
   "execution_count": null,
   "id": "d0ed47fa-38fb-4e7b-94cc-ef088ded205a",
   "metadata": {},
   "outputs": [],
   "source": [
    "train_df = pd.DataFrame(entries, columns=entries[0].keys())"
   ]
  },
  {
   "cell_type": "code",
   "execution_count": null,
   "id": "05b8f067-6291-49b2-a740-90f3af0efc46",
   "metadata": {},
   "outputs": [
    {
     "data": {
      "text/html": [
       "<div>\n",
       "<style scoped>\n",
       "    .dataframe tbody tr th:only-of-type {\n",
       "        vertical-align: middle;\n",
       "    }\n",
       "\n",
       "    .dataframe tbody tr th {\n",
       "        vertical-align: top;\n",
       "    }\n",
       "\n",
       "    .dataframe thead th {\n",
       "        text-align: right;\n",
       "    }\n",
       "</style>\n",
       "<table border=\"1\" class=\"dataframe\">\n",
       "  <thead>\n",
       "    <tr style=\"text-align: right;\">\n",
       "      <th></th>\n",
       "      <th>astask</th>\n",
       "      <th>profile</th>\n",
       "      <th>label</th>\n",
       "    </tr>\n",
       "  </thead>\n",
       "  <tbody>\n",
       "    <tr>\n",
       "      <th>0</th>\n",
       "      <td>titles: ['plant manager', 'manufacturing manag...</td>\n",
       "      <td>title: ['plant manager']\\nyears: 20+\\nlocation...</td>\n",
       "      <td>1</td>\n",
       "    </tr>\n",
       "    <tr>\n",
       "      <th>1</th>\n",
       "      <td>titles: ['plant manager', 'manufacturing manag...</td>\n",
       "      <td>title: ['plant manager']\\nyears: 20+\\nlocation...</td>\n",
       "      <td>1</td>\n",
       "    </tr>\n",
       "    <tr>\n",
       "      <th>2</th>\n",
       "      <td>titles: ['plant manager', 'manufacturing manag...</td>\n",
       "      <td>title: ['plant manager']\\nyears: 10-15\\nlocati...</td>\n",
       "      <td>1</td>\n",
       "    </tr>\n",
       "    <tr>\n",
       "      <th>3</th>\n",
       "      <td>titles: ['plant manager', 'manufacturing manag...</td>\n",
       "      <td>title: ['plant manager']\\nyears: 10-15\\nlocati...</td>\n",
       "      <td>0</td>\n",
       "    </tr>\n",
       "    <tr>\n",
       "      <th>4</th>\n",
       "      <td>titles: ['plant manager', 'manufacturing manag...</td>\n",
       "      <td>title: ['plant manager']\\nyears: 20+\\nlocation...</td>\n",
       "      <td>0</td>\n",
       "    </tr>\n",
       "    <tr>\n",
       "      <th>...</th>\n",
       "      <td>...</td>\n",
       "      <td>...</td>\n",
       "      <td>...</td>\n",
       "    </tr>\n",
       "    <tr>\n",
       "      <th>59995</th>\n",
       "      <td>titles: ['java'], exp_years: ['4-6', '6-8', '8...</td>\n",
       "      <td>title: ['developer']\\nyears: 10-15\\nlocation: ...</td>\n",
       "      <td>1</td>\n",
       "    </tr>\n",
       "    <tr>\n",
       "      <th>59996</th>\n",
       "      <td>titles: ['java'], exp_years: ['4-6', '6-8', '8...</td>\n",
       "      <td>years: 10-15\\nlocation: colombia\\ncompany size...</td>\n",
       "      <td>1</td>\n",
       "    </tr>\n",
       "    <tr>\n",
       "      <th>59997</th>\n",
       "      <td>titles: ['java'], exp_years: ['4-6', '6-8', '8...</td>\n",
       "      <td>title: ['development team leader']\\nyears: 8-1...</td>\n",
       "      <td>0</td>\n",
       "    </tr>\n",
       "    <tr>\n",
       "      <th>59998</th>\n",
       "      <td>titles: ['java'], exp_years: ['4-6', '6-8', '8...</td>\n",
       "      <td>title: ['backend developer']\\nyears: 4-6\\nloca...</td>\n",
       "      <td>0</td>\n",
       "    </tr>\n",
       "    <tr>\n",
       "      <th>59999</th>\n",
       "      <td>titles: ['java'], exp_years: ['4-6', '6-8', '8...</td>\n",
       "      <td>years: 6-8\\nlocation: medellín metropolitan ar...</td>\n",
       "      <td>0</td>\n",
       "    </tr>\n",
       "  </tbody>\n",
       "</table>\n",
       "<p>60000 rows × 3 columns</p>\n",
       "</div>"
      ],
      "text/plain": [
       "                                                  astask  \\\n",
       "0      titles: ['plant manager', 'manufacturing manag...   \n",
       "1      titles: ['plant manager', 'manufacturing manag...   \n",
       "2      titles: ['plant manager', 'manufacturing manag...   \n",
       "3      titles: ['plant manager', 'manufacturing manag...   \n",
       "4      titles: ['plant manager', 'manufacturing manag...   \n",
       "...                                                  ...   \n",
       "59995  titles: ['java'], exp_years: ['4-6', '6-8', '8...   \n",
       "59996  titles: ['java'], exp_years: ['4-6', '6-8', '8...   \n",
       "59997  titles: ['java'], exp_years: ['4-6', '6-8', '8...   \n",
       "59998  titles: ['java'], exp_years: ['4-6', '6-8', '8...   \n",
       "59999  titles: ['java'], exp_years: ['4-6', '6-8', '8...   \n",
       "\n",
       "                                                 profile  label  \n",
       "0      title: ['plant manager']\\nyears: 20+\\nlocation...      1  \n",
       "1      title: ['plant manager']\\nyears: 20+\\nlocation...      1  \n",
       "2      title: ['plant manager']\\nyears: 10-15\\nlocati...      1  \n",
       "3      title: ['plant manager']\\nyears: 10-15\\nlocati...      0  \n",
       "4      title: ['plant manager']\\nyears: 20+\\nlocation...      0  \n",
       "...                                                  ...    ...  \n",
       "59995  title: ['developer']\\nyears: 10-15\\nlocation: ...      1  \n",
       "59996  years: 10-15\\nlocation: colombia\\ncompany size...      1  \n",
       "59997  title: ['development team leader']\\nyears: 8-1...      0  \n",
       "59998  title: ['backend developer']\\nyears: 4-6\\nloca...      0  \n",
       "59999  years: 6-8\\nlocation: medellín metropolitan ar...      0  \n",
       "\n",
       "[60000 rows x 3 columns]"
      ]
     },
     "execution_count": 6,
     "metadata": {},
     "output_type": "execute_result"
    }
   ],
   "source": [
    "train_df"
   ]
  },
  {
   "cell_type": "code",
   "execution_count": null,
   "id": "6a4602f8-c0f2-41da-bb93-50f30424cf0b",
   "metadata": {},
   "outputs": [
    {
     "name": "stdout",
     "output_type": "stream",
     "text": [
      "60000\n",
      "60000\n"
     ]
    }
   ],
   "source": [
    "train_df['jd_reusme'] = train_df['astask'] + \"\\n\" + train_df['profile']\n",
    "train_df = train_df.dropna(axis=0)"
   ]
  },
  {
   "cell_type": "code",
   "execution_count": null,
   "id": "f60aa5c8-6ea4-4d96-a361-fe84df1ebfe5",
   "metadata": {},
   "outputs": [],
   "source": [
    "from transformers import GPT2Tokenizer"
   ]
  },
  {
   "cell_type": "code",
   "execution_count": null,
   "id": "06fefdfa-1df0-4b32-8bbb-779d205b764a",
   "metadata": {},
   "outputs": [],
   "source": [
    "tokenizer = GPT2Tokenizer.from_pretrained(\"gpt2\")"
   ]
  },
  {
   "cell_type": "code",
   "execution_count": null,
   "id": "30ca1956-2066-4008-a70b-d39978e1279f",
   "metadata": {},
   "outputs": [
    {
     "name": "stdout",
     "output_type": "stream",
     "text": [
      "Token count: 6\n"
     ]
    }
   ],
   "source": [
    "text = \"This is an example sentence.\"\n",
    "encoded_text = tokenizer.encode(text)\n",
    "token_count = len(encoded_text)\n",
    "\n",
    "print(f\"Token count: {token_count}\")"
   ]
  },
  {
   "cell_type": "code",
   "execution_count": null,
   "id": "e278487a-d85c-46c1-b405-895a59d635d1",
   "metadata": {},
   "outputs": [
    {
     "name": "stdout",
     "output_type": "stream",
     "text": [
      "Defaulting to user installation because normal site-packages is not writeable\n",
      "Requirement already satisfied: matplotlib in /home/ubuntu/.local/lib/python3.8/site-packages (3.5.3)\n",
      "Requirement already satisfied: numpy>=1.17 in /home/ubuntu/.local/lib/python3.8/site-packages (from matplotlib) (1.23.4)\n",
      "Requirement already satisfied: pyparsing>=2.2.1 in /usr/lib/python3/dist-packages (from matplotlib) (2.4.6)\n",
      "Requirement already satisfied: kiwisolver>=1.0.1 in /usr/lib/python3/dist-packages (from matplotlib) (1.0.1)\n",
      "Requirement already satisfied: packaging>=20.0 in /home/ubuntu/.local/lib/python3.8/site-packages (from matplotlib) (21.3)\n",
      "Requirement already satisfied: python-dateutil>=2.7 in /home/ubuntu/.local/lib/python3.8/site-packages (from matplotlib) (2.8.2)\n",
      "Requirement already satisfied: cycler>=0.10 in /usr/lib/python3/dist-packages (from matplotlib) (0.10.0)\n",
      "Requirement already satisfied: pillow>=6.2.0 in /usr/lib/python3/dist-packages (from matplotlib) (7.0.0)\n",
      "Requirement already satisfied: fonttools>=4.22.0 in /home/ubuntu/.local/lib/python3.8/site-packages (from matplotlib) (4.38.0)\n",
      "Requirement already satisfied: six>=1.5 in /usr/lib/python3/dist-packages (from python-dateutil>=2.7->matplotlib) (1.14.0)\n",
      "\n",
      "\u001b[1m[\u001b[0m\u001b[34;49mnotice\u001b[0m\u001b[1;39;49m]\u001b[0m\u001b[39;49m A new release of pip is available: \u001b[0m\u001b[31;49m23.0.1\u001b[0m\u001b[39;49m -> \u001b[0m\u001b[32;49m23.1\u001b[0m\n",
      "\u001b[1m[\u001b[0m\u001b[34;49mnotice\u001b[0m\u001b[1;39;49m]\u001b[0m\u001b[39;49m To update, run: \u001b[0m\u001b[32;49mpython3 -m pip install --upgrade pip\u001b[0m\n"
     ]
    }
   ],
   "source": [
    "!pip install matplotlib"
   ]
  },
  {
   "cell_type": "code",
   "execution_count": null,
   "id": "705b2061-5f9f-4e9d-aa7d-d4617fd6e97a",
   "metadata": {},
   "outputs": [],
   "source": [
    "def count_tokens(text):\n",
    "    encoded_text = tokenizer.encode(text)\n",
    "    return len(encoded_text)"
   ]
  },
  {
   "cell_type": "code",
   "execution_count": null,
   "id": "2eef402a-3b5d-4074-bb36-33d5284b4d0e",
   "metadata": {},
   "outputs": [
    {
     "name": "stderr",
     "output_type": "stream",
     "text": [
      "Token indices sequence length is longer than the specified maximum sequence length for this model (1047 > 1024). Running this sequence through the model will result in indexing errors\n"
     ]
    }
   ],
   "source": [
    "train_df[\"token_count\"] = train_df[\"jd_reusme\"].apply(count_tokens)"
   ]
  },
  {
   "cell_type": "code",
   "execution_count": null,
   "id": "550d91a5-fd20-488a-b820-2db163af390b",
   "metadata": {},
   "outputs": [],
   "source": [
    "import matplotlib.pyplot as plt"
   ]
  },
  {
   "cell_type": "code",
   "execution_count": null,
   "id": "fefb1c93-fce7-4178-8196-d744a01b2846",
   "metadata": {},
   "outputs": [
    {
     "data": {
      "image/png": "[encoded data removed]",
      "text/plain": [
       "<Figure size 432x288 with 1 Axes>"
      ]
     },
     "metadata": {
      "needs_background": "light"
     },
     "output_type": "display_data"
    }
   ],
   "source": [
    "plt.hist(train_df[\"token_count\"], bins='auto', alpha=0.7, color='blue')\n",
    "plt.xlabel(\"Token count\")\n",
    "plt.ylabel(\"Frequency\")\n",
    "plt.title(\"Histogram of Token Counts\")\n",
    "plt.grid(True)\n",
    "plt.xlim((0,1200))\n",
    "plt.show()"
   ]
  },
  {
   "cell_type": "code",
   "execution_count": null,
   "id": "cdcc16dd-bbdb-412c-a294-abde41e37b52",
   "metadata": {},
   "outputs": [],
   "source": []
  },
  {
   "cell_type": "code",
   "execution_count": null,
   "id": "cd3c3c91-b76e-492b-a413-a23fcaeb7daa",
   "metadata": {},
   "outputs": [],
   "source": [
    "from sklearn.model_selection import train_test_split"
   ]
  },
  {
   "cell_type": "code",
   "execution_count": null,
   "id": "6b09f3f0-ce5a-4c95-8fc4-51de782795d1",
   "metadata": {},
   "outputs": [],
   "source": [
    "train_data, valid_data = train_test_split(train_df, test_size=0.1, random_state=42)"
   ]
  },
  {
   "cell_type": "code",
   "execution_count": null,
   "id": "08902d7e-e761-42c3-913b-43a0d2aba9eb",
   "metadata": {},
   "outputs": [
    {
     "data": {
      "text/html": [
       "<div>\n",
       "<style scoped>\n",
       "    .dataframe tbody tr th:only-of-type {\n",
       "        vertical-align: middle;\n",
       "    }\n",
       "\n",
       "    .dataframe tbody tr th {\n",
       "        vertical-align: top;\n",
       "    }\n",
       "\n",
       "    .dataframe thead th {\n",
       "        text-align: right;\n",
       "    }\n",
       "</style>\n",
       "<table border=\"1\" class=\"dataframe\">\n",
       "  <thead>\n",
       "    <tr style=\"text-align: right;\">\n",
       "      <th></th>\n",
       "      <th>astask</th>\n",
       "      <th>profile</th>\n",
       "      <th>label</th>\n",
       "      <th>jd_reusme</th>\n",
       "      <th>token_count</th>\n",
       "    </tr>\n",
       "  </thead>\n",
       "  <tbody>\n",
       "    <tr>\n",
       "      <th>12628</th>\n",
       "      <td>titles: ['android developer', 'android applica...</td>\n",
       "      <td>title: ['ios application developer']\\nyears: 6...</td>\n",
       "      <td>0</td>\n",
       "      <td>titles: ['android developer', 'android applica...</td>\n",
       "      <td>378</td>\n",
       "    </tr>\n",
       "    <tr>\n",
       "      <th>37730</th>\n",
       "      <td>titles: ['financial business analyst', 'busine...</td>\n",
       "      <td>title: ['financial analyst']\\nyears: 6-8\\nloca...</td>\n",
       "      <td>1</td>\n",
       "      <td>titles: ['financial business analyst', 'busine...</td>\n",
       "      <td>489</td>\n",
       "    </tr>\n",
       "    <tr>\n",
       "      <th>39991</th>\n",
       "      <td>titles: ['chief revenue officer'], exp_years: ...</td>\n",
       "      <td>title: ['chief revenue officer']\\nyears: 20+\\n...</td>\n",
       "      <td>1</td>\n",
       "      <td>titles: ['chief revenue officer'], exp_years: ...</td>\n",
       "      <td>636</td>\n",
       "    </tr>\n",
       "    <tr>\n",
       "      <th>8525</th>\n",
       "      <td>titles: ['strategy analyst - remote', 'strateg...</td>\n",
       "      <td>title: ['associate']\\nyears: 2-4\\nlocation: ch...</td>\n",
       "      <td>0</td>\n",
       "      <td>titles: ['strategy analyst - remote', 'strateg...</td>\n",
       "      <td>454</td>\n",
       "    </tr>\n",
       "    <tr>\n",
       "      <th>8279</th>\n",
       "      <td>titles: ['controls technician'], mandatory_ski...</td>\n",
       "      <td>title: ['building engineer']\\nyears: 4-6\\nloca...</td>\n",
       "      <td>0</td>\n",
       "      <td>titles: ['controls technician'], mandatory_ski...</td>\n",
       "      <td>402</td>\n",
       "    </tr>\n",
       "    <tr>\n",
       "      <th>...</th>\n",
       "      <td>...</td>\n",
       "      <td>...</td>\n",
       "      <td>...</td>\n",
       "      <td>...</td>\n",
       "      <td>...</td>\n",
       "    </tr>\n",
       "    <tr>\n",
       "      <th>44157</th>\n",
       "      <td>titles: ['asset manager', 'assistant asset man...</td>\n",
       "      <td>title: ['asset management', 'technician']\\nyea...</td>\n",
       "      <td>0</td>\n",
       "      <td>titles: ['asset manager', 'assistant asset man...</td>\n",
       "      <td>461</td>\n",
       "    </tr>\n",
       "    <tr>\n",
       "      <th>24898</th>\n",
       "      <td>titles: ['lead'], mandatory_skills: ['clinical...</td>\n",
       "      <td>years: 20+\\nlocation: madera, california, unit...</td>\n",
       "      <td>0</td>\n",
       "      <td>titles: ['lead'], mandatory_skills: ['clinical...</td>\n",
       "      <td>305</td>\n",
       "    </tr>\n",
       "    <tr>\n",
       "      <th>6528</th>\n",
       "      <td>titles: ['finance', 'accountant', 'controller'...</td>\n",
       "      <td>title: ['office manager']\\nyears: 10-15\\nlocat...</td>\n",
       "      <td>1</td>\n",
       "      <td>titles: ['finance', 'accountant', 'controller'...</td>\n",
       "      <td>231</td>\n",
       "    </tr>\n",
       "    <tr>\n",
       "      <th>20395</th>\n",
       "      <td>titles: ['manager', 'accounting manager', 'aud...</td>\n",
       "      <td>title: ['supervisor', 'assurance']\\nyears: 4-6...</td>\n",
       "      <td>1</td>\n",
       "      <td>titles: ['manager', 'accounting manager', 'aud...</td>\n",
       "      <td>392</td>\n",
       "    </tr>\n",
       "    <tr>\n",
       "      <th>18701</th>\n",
       "      <td>titles: ['senior robotics engineer', 'sr. robo...</td>\n",
       "      <td>title: ['software developer']\\nyears: 4-6\\nloc...</td>\n",
       "      <td>0</td>\n",
       "      <td>titles: ['senior robotics engineer', 'sr. robo...</td>\n",
       "      <td>459</td>\n",
       "    </tr>\n",
       "  </tbody>\n",
       "</table>\n",
       "<p>6000 rows × 5 columns</p>\n",
       "</div>"
      ],
      "text/plain": [
       "                                                  astask  \\\n",
       "12628  titles: ['android developer', 'android applica...   \n",
       "37730  titles: ['financial business analyst', 'busine...   \n",
       "39991  titles: ['chief revenue officer'], exp_years: ...   \n",
       "8525   titles: ['strategy analyst - remote', 'strateg...   \n",
       "8279   titles: ['controls technician'], mandatory_ski...   \n",
       "...                                                  ...   \n",
       "44157  titles: ['asset manager', 'assistant asset man...   \n",
       "24898  titles: ['lead'], mandatory_skills: ['clinical...   \n",
       "6528   titles: ['finance', 'accountant', 'controller'...   \n",
       "20395  titles: ['manager', 'accounting manager', 'aud...   \n",
       "18701  titles: ['senior robotics engineer', 'sr. robo...   \n",
       "\n",
       "                                                 profile  label  \\\n",
       "12628  title: ['ios application developer']\\nyears: 6...      0   \n",
       "37730  title: ['financial analyst']\\nyears: 6-8\\nloca...      1   \n",
       "39991  title: ['chief revenue officer']\\nyears: 20+\\n...      1   \n",
       "8525   title: ['associate']\\nyears: 2-4\\nlocation: ch...      0   \n",
       "8279   title: ['building engineer']\\nyears: 4-6\\nloca...      0   \n",
       "...                                                  ...    ...   \n",
       "44157  title: ['asset management', 'technician']\\nyea...      0   \n",
       "24898  years: 20+\\nlocation: madera, california, unit...      0   \n",
       "6528   title: ['office manager']\\nyears: 10-15\\nlocat...      1   \n",
       "20395  title: ['supervisor', 'assurance']\\nyears: 4-6...      1   \n",
       "18701  title: ['software developer']\\nyears: 4-6\\nloc...      0   \n",
       "\n",
       "                                               jd_reusme  token_count  \n",
       "12628  titles: ['android developer', 'android applica...          378  \n",
       "37730  titles: ['financial business analyst', 'busine...          489  \n",
       "39991  titles: ['chief revenue officer'], exp_years: ...          636  \n",
       "8525   titles: ['strategy analyst - remote', 'strateg...          454  \n",
       "8279   titles: ['controls technician'], mandatory_ski...          402  \n",
       "...                                                  ...          ...  \n",
       "44157  titles: ['asset manager', 'assistant asset man...          461  \n",
       "24898  titles: ['lead'], mandatory_skills: ['clinical...          305  \n",
       "6528   titles: ['finance', 'accountant', 'controller'...          231  \n",
       "20395  titles: ['manager', 'accounting manager', 'aud...          392  \n",
       "18701  titles: ['senior robotics engineer', 'sr. robo...          459  \n",
       "\n",
       "[6000 rows x 5 columns]"
      ]
     },
     "execution_count": 28,
     "metadata": {},
     "output_type": "execute_result"
    }
   ],
   "source": [
    "valid_data"
   ]
  },
  {
   "cell_type": "code",
   "execution_count": null,
   "id": "f3d6b993-4621-4f38-92f5-c60be6af8a25",
   "metadata": {},
   "outputs": [],
   "source": []
  },
  {
   "cell_type": "code",
   "execution_count": null,
   "id": "c773d3e2-cd4e-4877-aac1-01d162447fa0",
   "metadata": {},
   "outputs": [],
   "source": [
    "import pandas as pd"
   ]
  },
  {
   "cell_type": "code",
   "execution_count": null,
   "id": "f91bbf03-bc23-4be0-942a-95a7771d1d9b",
   "metadata": {},
   "outputs": [],
   "source": [
    "data = \"data/train_data_01_4_200.csv\""
   ]
  },
  {
   "cell_type": "code",
   "execution_count": null,
   "id": "9d9ae80c-f171-4d9f-a998-04c5c6991b13",
   "metadata": {},
   "outputs": [],
   "source": [
    "train_df = pd.read_csv(data, delimiter=\"$\")"
   ]
  },
  {
   "cell_type": "code",
   "execution_count": null,
   "id": "87b1a999-b04e-4cfa-8c0c-41248c6d3269",
   "metadata": {},
   "outputs": [],
   "source": [
    "train_df.head(64).to_csv('data/small.csv', sep='$', index=False)"
   ]
  },
  {
   "cell_type": "code",
   "execution_count": null,
   "id": "7defb4b1-d0d9-45b2-b734-4b29ad61723e",
   "metadata": {},
   "outputs": [
    {
     "data": {
      "text/plain": [
       "44460"
      ]
     },
     "execution_count": 5,
     "metadata": {},
     "output_type": "execute_result"
    }
   ],
   "source": [
    "train_df.index.size"
   ]
  },
  {
   "cell_type": "code",
   "execution_count": null,
   "id": "bd199668-a933-4b39-8129-9a51d347fa57",
   "metadata": {},
   "outputs": [],
   "source": [
    "train_df['jd_reusme'] = train_df['query'] + \"\\n\" + train_df['resume']\n",
    "train_df = train_df.dropna(axis=0)"
   ]
  },
  {
   "cell_type": "code",
   "execution_count": null,
   "id": "9453925d-ec36-41d6-bcd1-9e78e27df985",
   "metadata": {},
   "outputs": [
    {
     "data": {
      "text/html": [
       "<div>\n",
       "<style scoped>\n",
       "    .dataframe tbody tr th:only-of-type {\n",
       "        vertical-align: middle;\n",
       "    }\n",
       "\n",
       "    .dataframe tbody tr th {\n",
       "        vertical-align: top;\n",
       "    }\n",
       "\n",
       "    .dataframe thead th {\n",
       "        text-align: right;\n",
       "    }\n",
       "</style>\n",
       "<table border=\"1\" class=\"dataframe\">\n",
       "  <thead>\n",
       "    <tr style=\"text-align: right;\">\n",
       "      <th></th>\n",
       "      <th>search_id</th>\n",
       "      <th>query</th>\n",
       "      <th>resume</th>\n",
       "      <th>label</th>\n",
       "      <th>jd_reusme</th>\n",
       "    </tr>\n",
       "  </thead>\n",
       "  <tbody>\n",
       "  </tbody>\n",
       "</table>\n",
       "</div>"
      ],
      "text/plain": [
       "Empty DataFrame\n",
       "Columns: [search_id, query, resume, label, jd_reusme]\n",
       "Index: []"
      ]
     },
     "execution_count": 7,
     "metadata": {},
     "output_type": "execute_result"
    }
   ],
   "source": [
    "nan_age_df = train_df[train_df['jd_reusme'].isna()]\n",
    "nan_age_df"
   ]
  },
  {
   "cell_type": "code",
   "execution_count": null,
   "id": "fc261b68-c7ad-4c18-9082-aa5923787266",
   "metadata": {},
   "outputs": [
    {
     "ename": "NameError",
     "evalue": "name 'train_test_split' is not defined",
     "output_type": "error",
     "traceback": [
      "\u001b[0;31m---------------------------------------------------------------------------\u001b[0m",
      "\u001b[0;31mNameError\u001b[0m                                 Traceback (most recent call last)",
      "\u001b[0;32m<ipython-input-8-97885d419cc7>\u001b[0m in \u001b[0;36m<module>\u001b[0;34m\u001b[0m\n\u001b[0;32m----> 1\u001b[0;31m \u001b[0mtrain_data\u001b[0m\u001b[0;34m,\u001b[0m \u001b[0mvalid_data\u001b[0m \u001b[0;34m=\u001b[0m \u001b[0mtrain_test_split\u001b[0m\u001b[0;34m(\u001b[0m\u001b[0mtrain_df\u001b[0m\u001b[0;34m,\u001b[0m \u001b[0mtest_size\u001b[0m\u001b[0;34m=\u001b[0m\u001b[0;36m0.2\u001b[0m\u001b[0;34m,\u001b[0m \u001b[0mrandom_state\u001b[0m\u001b[0;34m=\u001b[0m\u001b[0;36m42\u001b[0m\u001b[0;34m)\u001b[0m\u001b[0;34m\u001b[0m\u001b[0;34m\u001b[0m\u001b[0m\n\u001b[0m\u001b[1;32m      2\u001b[0m \u001b[0mtrain_texts\u001b[0m\u001b[0;34m,\u001b[0m \u001b[0mtrain_labels\u001b[0m \u001b[0;34m=\u001b[0m \u001b[0mtrain_data\u001b[0m\u001b[0;34m[\u001b[0m\u001b[0;34m'jd_reusme'\u001b[0m\u001b[0;34m]\u001b[0m\u001b[0;34m.\u001b[0m\u001b[0mtolist\u001b[0m\u001b[0;34m(\u001b[0m\u001b[0;34m)\u001b[0m\u001b[0;34m,\u001b[0m \u001b[0mtrain_data\u001b[0m\u001b[0;34m[\u001b[0m\u001b[0;34m'label'\u001b[0m\u001b[0;34m]\u001b[0m\u001b[0;34m.\u001b[0m\u001b[0mtolist\u001b[0m\u001b[0;34m(\u001b[0m\u001b[0;34m)\u001b[0m\u001b[0;34m\u001b[0m\u001b[0;34m\u001b[0m\u001b[0m\n\u001b[1;32m      3\u001b[0m \u001b[0mvalid_texts\u001b[0m\u001b[0;34m,\u001b[0m \u001b[0mvalid_labels\u001b[0m \u001b[0;34m=\u001b[0m \u001b[0mvalid_data\u001b[0m\u001b[0;34m[\u001b[0m\u001b[0;34m'jd_reusme'\u001b[0m\u001b[0;34m]\u001b[0m\u001b[0;34m.\u001b[0m\u001b[0mtolist\u001b[0m\u001b[0;34m(\u001b[0m\u001b[0;34m)\u001b[0m\u001b[0;34m,\u001b[0m \u001b[0mvalid_data\u001b[0m\u001b[0;34m[\u001b[0m\u001b[0;34m'label'\u001b[0m\u001b[0;34m]\u001b[0m\u001b[0;34m.\u001b[0m\u001b[0mtolist\u001b[0m\u001b[0;34m(\u001b[0m\u001b[0;34m)\u001b[0m\u001b[0;34m\u001b[0m\u001b[0;34m\u001b[0m\u001b[0m\n",
      "\u001b[0;31mNameError\u001b[0m: name 'train_test_split' is not defined"
     ]
    }
   ],
   "source": [
    "train_data, valid_data = train_test_split(train_df, test_size=0.2, random_state=42)\n",
    "train_texts, train_labels = train_data['jd_reusme'].tolist(), train_data['label'].tolist()\n",
    "valid_texts, valid_labels = valid_data['jd_reusme'].tolist(), valid_data['label'].tolist()"
   ]
  },
  {
   "cell_type": "code",
   "execution_count": null,
   "id": "f963124d-f57d-4fe0-8a6f-5d32316a8ef9",
   "metadata": {},
   "outputs": [
    {
     "data": {
      "text/plain": [
       "1"
      ]
     },
     "execution_count": 8,
     "metadata": {},
     "output_type": "execute_result"
    }
   ],
   "source": [
    "tokenizer = LlamaTokenizer.from_pretrained(\"/home/ubuntu/ranking_llama/weights/tokenizer/\")\n",
    "tokenizer.add_special_tokens({\"pad_token\": \"<pad>\"})"
   ]
  },
  {
   "cell_type": "code",
   "execution_count": null,
   "id": "ddd7b2ef-cb1f-43d1-8afb-19b418f80edb",
   "metadata": {},
   "outputs": [],
   "source": [
    "MAX_LENGTH = 512\n",
    "train_dataset = BinaryClassificationDataset(train_data, tokenizer, max_length=MAX_LENGTH)\n",
    "valid_dataset = BinaryClassificationDataset(valid_data, tokenizer, max_length=MAX_LENGTH)"
   ]
  },
  {
   "cell_type": "code",
   "execution_count": null,
   "id": "b098e311-bcf7-4926-ac34-1f1428d1b6a9",
   "metadata": {},
   "outputs": [],
   "source": [
    "batch_size=1\n",
    "train_dataloader = DataLoader(train_dataset, sampler=RandomSampler(train_dataset), batch_size=batch_size)\n",
    "valid_dataloader = DataLoader(valid_dataset, batch_size=batch_size)"
   ]
  },
  {
   "cell_type": "code",
   "execution_count": null,
   "id": "15309e3f-cbbb-4e21-b0fc-4b74f852dd12",
   "metadata": {},
   "outputs": [],
   "source": [
    "# for i, batch in enumerate(train_dataloader):\n",
    "#     print(f\"Batch {i}: {batch}\")\n",
    "#     break"
   ]
  },
  {
   "cell_type": "code",
   "execution_count": null,
   "id": "c96a7072-876f-4ec6-a144-58702f014d58",
   "metadata": {},
   "outputs": [],
   "source": []
  },
  {
   "cell_type": "code",
   "execution_count": null,
   "id": "e4cc837d-35f4-4e7e-abed-d5257867a5d8",
   "metadata": {},
   "outputs": [],
   "source": []
  }
 ],
 "metadata": {
  "kernelspec": {
   "display_name": "",
   "name": ""
  },
  "language_info": {
   "name": ""
  }
 },
 "nbformat": 4,
 "nbformat_minor": 5
}
