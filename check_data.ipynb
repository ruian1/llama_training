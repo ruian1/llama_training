{
 "cells": [
  {
   "cell_type": "code",
   "execution_count": null,
   "id": "e68bdbba-7fd8-4f06-b43b-de0320609852",
   "metadata": {},
   "outputs": [],
   "source": [
    "import pandas as pd\n",
    "\n",
    "import os\n",
    "import pickle\n",
    "from time import time\n",
    "\n",
    "import pandas as pd\n",
    "import torch\n",
    "import torch.nn as nn\n",
    "from peft import LoraConfig, TaskType, get_peft_config, get_peft_model\n",
    "from sklearn.model_selection import train_test_split\n",
    "from torch.utils.data import DataLoader, Dataset, RandomSampler\n",
    "from transformers import (AdamW, LlamaForSequenceClassification,\n",
    "                          LlamaTokenizer, Trainer, TrainingArguments,\n",
    "                          get_linear_schedule_with_warmup)\n",
    "\n",
    "from llama_dataloader import BinaryClassificationDataset"
   ]
  },
  {
   "cell_type": "code",
   "execution_count": 2,
   "id": "f91bbf03-bc23-4be0-942a-95a7771d1d9b",
   "metadata": {},
   "outputs": [],
   "source": [
    "data = \"data/train_data_01_4_200.csv\""
   ]
  },
  {
   "cell_type": "code",
   "execution_count": 3,
   "id": "9d9ae80c-f171-4d9f-a998-04c5c6991b13",
   "metadata": {},
   "outputs": [],
   "source": [
    "train_df = pd.read_csv(data, delimiter=\"$\")"
   ]
  },
  {
   "cell_type": "code",
   "execution_count": 4,
   "id": "7defb4b1-d0d9-45b2-b734-4b29ad61723e",
   "metadata": {},
   "outputs": [
    {
     "data": {
      "text/html": [
       "<div>\n",
       "<style scoped>\n",
       "    .dataframe tbody tr th:only-of-type {\n",
       "        vertical-align: middle;\n",
       "    }\n",
       "\n",
       "    .dataframe tbody tr th {\n",
       "        vertical-align: top;\n",
       "    }\n",
       "\n",
       "    .dataframe thead th {\n",
       "        text-align: right;\n",
       "    }\n",
       "</style>\n",
       "<table border=\"1\" class=\"dataframe\">\n",
       "  <thead>\n",
       "    <tr style=\"text-align: right;\">\n",
       "      <th></th>\n",
       "      <th>search_id</th>\n",
       "      <th>query</th>\n",
       "      <th>resume</th>\n",
       "      <th>label</th>\n",
       "    </tr>\n",
       "  </thead>\n",
       "  <tbody>\n",
       "    <tr>\n",
       "      <th>0</th>\n",
       "      <td>1b42c480-7599-11ed-b4a7-237a04cf3ba2</td>\n",
       "      <td>quality analyst or quality assurance analyst o...</td>\n",
       "      <td>title: qa specialist^years: 2-4^location: omah...</td>\n",
       "      <td>1</td>\n",
       "    </tr>\n",
       "    <tr>\n",
       "      <th>1</th>\n",
       "      <td>1b42c480-7599-11ed-b4a7-237a04cf3ba2</td>\n",
       "      <td>quality analyst or quality assurance analyst o...</td>\n",
       "      <td>title: test analyst, sdk, game, service^years:...</td>\n",
       "      <td>0</td>\n",
       "    </tr>\n",
       "    <tr>\n",
       "      <th>2</th>\n",
       "      <td>3f10fc80-662e-11ed-b10e-2bd97e927a21</td>\n",
       "      <td>internal medicine or internal medicine physici...</td>\n",
       "      <td>title: hospitalist^years: 6-8^location: greenv...</td>\n",
       "      <td>0</td>\n",
       "    </tr>\n",
       "    <tr>\n",
       "      <th>3</th>\n",
       "      <td>3f10fc80-662e-11ed-b10e-2bd97e927a21</td>\n",
       "      <td>internal medicine or internal medicine physici...</td>\n",
       "      <td>title: hospitalist^years: 2-4^location: greenv...</td>\n",
       "      <td>1</td>\n",
       "    </tr>\n",
       "    <tr>\n",
       "      <th>4</th>\n",
       "      <td>6fc12df0-7a10-11ed-adf0-051792cd6d2d</td>\n",
       "      <td>product designer or design lead or lead design...</td>\n",
       "      <td>title: product designer^years: 8-10^location: ...</td>\n",
       "      <td>1</td>\n",
       "    </tr>\n",
       "    <tr>\n",
       "      <th>...</th>\n",
       "      <td>...</td>\n",
       "      <td>...</td>\n",
       "      <td>...</td>\n",
       "      <td>...</td>\n",
       "    </tr>\n",
       "    <tr>\n",
       "      <th>44455</th>\n",
       "      <td>sh_fff88430-ad4c-11ed-8dc8-2ff97fcb4fb4</td>\n",
       "      <td>rn or registered nurse or staff rn or staff nu...</td>\n",
       "      <td>title: registered nurse^years: 0-2^location: w...</td>\n",
       "      <td>1</td>\n",
       "    </tr>\n",
       "    <tr>\n",
       "      <th>44456</th>\n",
       "      <td>sh_fffa0ae0-b3db-11ed-bf57-cdc2479c45f6</td>\n",
       "      <td>tax or entrepreneur or security, with 2-4 or 4...</td>\n",
       "      <td>title: research associate, financial, security...</td>\n",
       "      <td>0</td>\n",
       "    </tr>\n",
       "    <tr>\n",
       "      <th>44457</th>\n",
       "      <td>sh_fffa0ae0-b3db-11ed-bf57-cdc2479c45f6</td>\n",
       "      <td>tax or entrepreneur or security, with 2-4 or 4...</td>\n",
       "      <td>title: finance manager, financial, security, p...</td>\n",
       "      <td>1</td>\n",
       "    </tr>\n",
       "    <tr>\n",
       "      <th>44458</th>\n",
       "      <td>sh_fffe7550-b3a7-11ed-b253-c7d70a6eb095</td>\n",
       "      <td>compliance, with 4-6 or 6-8 or 8-10 years of e...</td>\n",
       "      <td>title: business, attorney^years: 8-10^location...</td>\n",
       "      <td>0</td>\n",
       "    </tr>\n",
       "    <tr>\n",
       "      <th>44459</th>\n",
       "      <td>sh_fffe7550-b3a7-11ed-b253-c7d70a6eb095</td>\n",
       "      <td>compliance, with 4-6 or 6-8 or 8-10 years of e...</td>\n",
       "      <td>title: cybersecurity, attorney^years: 8-10^loc...</td>\n",
       "      <td>1</td>\n",
       "    </tr>\n",
       "  </tbody>\n",
       "</table>\n",
       "<p>44460 rows × 4 columns</p>\n",
       "</div>"
      ],
      "text/plain": [
       "                                     search_id  \\\n",
       "0         1b42c480-7599-11ed-b4a7-237a04cf3ba2   \n",
       "1         1b42c480-7599-11ed-b4a7-237a04cf3ba2   \n",
       "2         3f10fc80-662e-11ed-b10e-2bd97e927a21   \n",
       "3         3f10fc80-662e-11ed-b10e-2bd97e927a21   \n",
       "4         6fc12df0-7a10-11ed-adf0-051792cd6d2d   \n",
       "...                                        ...   \n",
       "44455  sh_fff88430-ad4c-11ed-8dc8-2ff97fcb4fb4   \n",
       "44456  sh_fffa0ae0-b3db-11ed-bf57-cdc2479c45f6   \n",
       "44457  sh_fffa0ae0-b3db-11ed-bf57-cdc2479c45f6   \n",
       "44458  sh_fffe7550-b3a7-11ed-b253-c7d70a6eb095   \n",
       "44459  sh_fffe7550-b3a7-11ed-b253-c7d70a6eb095   \n",
       "\n",
       "                                                   query  \\\n",
       "0      quality analyst or quality assurance analyst o...   \n",
       "1      quality analyst or quality assurance analyst o...   \n",
       "2      internal medicine or internal medicine physici...   \n",
       "3      internal medicine or internal medicine physici...   \n",
       "4      product designer or design lead or lead design...   \n",
       "...                                                  ...   \n",
       "44455  rn or registered nurse or staff rn or staff nu...   \n",
       "44456  tax or entrepreneur or security, with 2-4 or 4...   \n",
       "44457  tax or entrepreneur or security, with 2-4 or 4...   \n",
       "44458  compliance, with 4-6 or 6-8 or 8-10 years of e...   \n",
       "44459  compliance, with 4-6 or 6-8 or 8-10 years of e...   \n",
       "\n",
       "                                                  resume  label  \n",
       "0      title: qa specialist^years: 2-4^location: omah...      1  \n",
       "1      title: test analyst, sdk, game, service^years:...      0  \n",
       "2      title: hospitalist^years: 6-8^location: greenv...      0  \n",
       "3      title: hospitalist^years: 2-4^location: greenv...      1  \n",
       "4      title: product designer^years: 8-10^location: ...      1  \n",
       "...                                                  ...    ...  \n",
       "44455  title: registered nurse^years: 0-2^location: w...      1  \n",
       "44456  title: research associate, financial, security...      0  \n",
       "44457  title: finance manager, financial, security, p...      1  \n",
       "44458  title: business, attorney^years: 8-10^location...      0  \n",
       "44459  title: cybersecurity, attorney^years: 8-10^loc...      1  \n",
       "\n",
       "[44460 rows x 4 columns]"
      ]
     },
     "execution_count": 4,
     "metadata": {},
     "output_type": "execute_result"
    }
   ],
   "source": [
    "train_df"
   ]
  },
  {
   "cell_type": "code",
   "execution_count": 5,
   "id": "bd199668-a933-4b39-8129-9a51d347fa57",
   "metadata": {},
   "outputs": [],
   "source": [
    "train_df['jd_reusme'] = train_df['query'] + \"\\n\" + train_df['resume']\n",
    "train_df = train_df.dropna(axis=0)"
   ]
  },
  {
   "cell_type": "code",
   "execution_count": 6,
   "id": "9453925d-ec36-41d6-bcd1-9e78e27df985",
   "metadata": {},
   "outputs": [
    {
     "data": {
      "text/html": [
       "<div>\n",
       "<style scoped>\n",
       "    .dataframe tbody tr th:only-of-type {\n",
       "        vertical-align: middle;\n",
       "    }\n",
       "\n",
       "    .dataframe tbody tr th {\n",
       "        vertical-align: top;\n",
       "    }\n",
       "\n",
       "    .dataframe thead th {\n",
       "        text-align: right;\n",
       "    }\n",
       "</style>\n",
       "<table border=\"1\" class=\"dataframe\">\n",
       "  <thead>\n",
       "    <tr style=\"text-align: right;\">\n",
       "      <th></th>\n",
       "      <th>search_id</th>\n",
       "      <th>query</th>\n",
       "      <th>resume</th>\n",
       "      <th>label</th>\n",
       "      <th>jd_reusme</th>\n",
       "    </tr>\n",
       "  </thead>\n",
       "  <tbody>\n",
       "  </tbody>\n",
       "</table>\n",
       "</div>"
      ],
      "text/plain": [
       "Empty DataFrame\n",
       "Columns: [search_id, query, resume, label, jd_reusme]\n",
       "Index: []"
      ]
     },
     "execution_count": 6,
     "metadata": {},
     "output_type": "execute_result"
    }
   ],
   "source": [
    "nan_age_df = train_df[train_df['jd_reusme'].isna()]\n",
    "nan_age_df"
   ]
  },
  {
   "cell_type": "code",
   "execution_count": 7,
   "id": "fc261b68-c7ad-4c18-9082-aa5923787266",
   "metadata": {},
   "outputs": [],
   "source": [
    "train_data, valid_data = train_test_split(train_df, test_size=0.2, random_state=42)\n",
    "train_texts, train_labels = train_data['jd_reusme'].tolist(), train_data['label'].tolist()\n",
    "valid_texts, valid_labels = valid_data['jd_reusme'].tolist(), valid_data['label'].tolist()"
   ]
  },
  {
   "cell_type": "code",
   "execution_count": 8,
   "id": "f963124d-f57d-4fe0-8a6f-5d32316a8ef9",
   "metadata": {},
   "outputs": [
    {
     "data": {
      "text/plain": [
       "1"
      ]
     },
     "execution_count": 8,
     "metadata": {},
     "output_type": "execute_result"
    }
   ],
   "source": [
    "tokenizer = LlamaTokenizer.from_pretrained(\"/home/ubuntu/ranking_llama/weights/tokenizer/\")\n",
    "tokenizer.add_special_tokens({\"pad_token\": \"<pad>\"})"
   ]
  },
  {
   "cell_type": "code",
   "execution_count": 9,
   "id": "ddd7b2ef-cb1f-43d1-8afb-19b418f80edb",
   "metadata": {},
   "outputs": [],
   "source": [
    "MAX_LENGTH = 512\n",
    "train_dataset = BinaryClassificationDataset(train_data, tokenizer, max_length=MAX_LENGTH)\n",
    "valid_dataset = BinaryClassificationDataset(valid_data, tokenizer, max_length=MAX_LENGTH)"
   ]
  },
  {
   "cell_type": "code",
   "execution_count": 10,
   "id": "b098e311-bcf7-4926-ac34-1f1428d1b6a9",
   "metadata": {},
   "outputs": [],
   "source": [
    "batch_size=1\n",
    "train_dataloader = DataLoader(train_dataset, sampler=RandomSampler(train_dataset), batch_size=batch_size)\n",
    "valid_dataloader = DataLoader(valid_dataset, batch_size=batch_size)"
   ]
  },
  {
   "cell_type": "code",
   "execution_count": 11,
   "id": "15309e3f-cbbb-4e21-b0fc-4b74f852dd12",
   "metadata": {},
   "outputs": [
    {
     "name": "stdout",
     "output_type": "stream",
     "text": [
      "Batch 0: {'input_ids': tensor([[    1,  7047, 22055,   470, 25001,  3136,   286, 29980, 17191,   470,\n",
      "          1442, 22055,   470,  7047, 13897,   470,  1442, 13897, 29892,   411,\n",
      "         29871, 29906, 29899, 29946,   470, 29871, 29946, 29899, 29953,   470,\n",
      "         29871, 29953, 29899, 29947,   470, 29871, 29947, 29899, 29896, 29900,\n",
      "           470, 29871, 29896, 29900, 29899, 29896, 29945,   470, 29871, 29896,\n",
      "         29945, 29899, 29906, 29900,  2440,   310,  7271, 29889,  1818,   367,\n",
      "          9985,   411,   413, 13961, 29889,   297,   278, 10161,   310,   592,\n",
      "         13821,  4272,   470,   592, 13821,  4272,  4038, 29892,   592, 13821,\n",
      "           470,   592, 13821,  4272, 29892,   592, 13821,  4272, 29892,   592,\n",
      "         13821, 29889,    13,  3257, 29901,  7047, 22055, 29892,  1442, 29985,\n",
      "          6360, 29879, 29901, 29871, 29906, 29899, 29946, 29985,  5479, 29901,\n",
      "           592, 13821,  4272, 29985, 14518,  2159, 29901, 29871, 29896, 29900,\n",
      "         29900, 29896, 29899, 29945, 29900, 29900, 29900, 29985,  1287,  7271,\n",
      "         29901,  6228, 29896, 29889,  7047, 22055, 29892,  1442,   474,  2236,\n",
      "         29892,   281,   466,  5570, 29892, 29871, 29906, 29900, 29906, 29896,\n",
      "         30022, 29906, 29896, 29900, 29900, 29985, 29906, 29889,  1442, 13897,\n",
      "         29892, 12249,  4497, 10189, 29892, 29871, 29906, 29900, 29906, 29900,\n",
      "         30022, 29906, 29900, 29906, 29896, 29985, 29941, 29889,  2989,  5096,\n",
      "         13897, 29892,  2906,   277,  8799,   292,   269, 29889, 29874, 29889,\n",
      "           316,   274, 29889, 29894,  1696, 29871, 29906, 29900, 29896, 29947,\n",
      "         30022, 29906, 29900, 29906, 29900, 29985, 12163,   929, 29901,   289,\n",
      "           496, 12779, 29985, 21355, 29901,  3033,  1674,   363, 21567, 11976,\n",
      "         29892, 24386,   631,  1553,   427,  7852,  8609,  2912,  4264,   267,\n",
      "         29985, 27041, 29901,  3708, 29123, 16372,  5162,   982,   484, 29892,\n",
      "           832, 21059, 20790, 13567,  1417, 11558,   316,   318,   582, 21419,\n",
      "         29985,   808,  6090, 29901, 21120, 29892,   364, 29916,  1645, 29892,\n",
      "           869,  1212,  6890, 29892,  3033,  1674, 29892,  2115, 29892, 28241,\n",
      "          6925, 29892, 10426,  2280, 29892, 19001,  1302,  9733, 29892,  6315,\n",
      "         29892,  1442, 29892,  2280, 29892,  1788, 29892,  3513, 29892,  5749,\n",
      "         29892,   260, 29899,  2850, 29892, 10426, 29892, 11053, 29892,  7047,\n",
      "         29892,   286,  2995,  4576,  1923, 29892,  3095,   275, 29892,  2989,\n",
      "          5096, 29892,  1856, 29892,  1708, 29892,   848, 12286, 29892,   623,\n",
      "         29892,  7051, 29889,  1212, 29892,   413, 13961, 29892, 18546, 29892,\n",
      "          4180, 17385,   362, 29892,  2989, 29899,  1429,  5849, 29892,  5386,\n",
      "         29892,  4180, 10643, 29892,  1301,   627, 29899,  2850, 29892,  3017,\n",
      "          8720,  4086, 29892, 10638,   728, 29892,  7051, 29889,  1212,   286,\n",
      "          7071, 29892, 10615, 29892,  3815, 26001, 29892,  4576, 29892,  6996,\n",
      "           330,  3504, 29985, 20041,   719, 29901,  2472, 15483,   322,  5786,\n",
      "         29892,  6601,  7047, 29985,  5349,  4876, 29901,  5852, 29985,  5349,\n",
      "          9008,  1353, 29901,  5852, 29985, 32000, 32000, 32000, 32000, 32000,\n",
      "         32000, 32000, 32000, 32000, 32000, 32000, 32000, 32000, 32000, 32000,\n",
      "         32000, 32000, 32000, 32000, 32000, 32000, 32000, 32000, 32000, 32000,\n",
      "         32000, 32000, 32000, 32000, 32000, 32000, 32000, 32000, 32000, 32000,\n",
      "         32000, 32000, 32000, 32000, 32000, 32000, 32000, 32000, 32000, 32000,\n",
      "         32000, 32000, 32000, 32000, 32000, 32000, 32000, 32000, 32000, 32000,\n",
      "         32000, 32000, 32000, 32000, 32000, 32000, 32000, 32000, 32000, 32000,\n",
      "         32000, 32000, 32000, 32000, 32000, 32000, 32000, 32000, 32000, 32000,\n",
      "         32000, 32000, 32000, 32000, 32000, 32000, 32000, 32000, 32000, 32000,\n",
      "         32000, 32000, 32000, 32000, 32000, 32000, 32000, 32000, 32000, 32000,\n",
      "         32000, 32000, 32000, 32000, 32000, 32000, 32000, 32000, 32000, 32000,\n",
      "         32000, 32000, 32000, 32000, 32000, 32000, 32000, 32000, 32000, 32000,\n",
      "         32000, 32000]]), 'attention_mask': tensor([[1, 1, 1, 1, 1, 1, 1, 1, 1, 1, 1, 1, 1, 1, 1, 1, 1, 1, 1, 1, 1, 1, 1, 1,\n",
      "         1, 1, 1, 1, 1, 1, 1, 1, 1, 1, 1, 1, 1, 1, 1, 1, 1, 1, 1, 1, 1, 1, 1, 1,\n",
      "         1, 1, 1, 1, 1, 1, 1, 1, 1, 1, 1, 1, 1, 1, 1, 1, 1, 1, 1, 1, 1, 1, 1, 1,\n",
      "         1, 1, 1, 1, 1, 1, 1, 1, 1, 1, 1, 1, 1, 1, 1, 1, 1, 1, 1, 1, 1, 1, 1, 1,\n",
      "         1, 1, 1, 1, 1, 1, 1, 1, 1, 1, 1, 1, 1, 1, 1, 1, 1, 1, 1, 1, 1, 1, 1, 1,\n",
      "         1, 1, 1, 1, 1, 1, 1, 1, 1, 1, 1, 1, 1, 1, 1, 1, 1, 1, 1, 1, 1, 1, 1, 1,\n",
      "         1, 1, 1, 1, 1, 1, 1, 1, 1, 1, 1, 1, 1, 1, 1, 1, 1, 1, 1, 1, 1, 1, 1, 1,\n",
      "         1, 1, 1, 1, 1, 1, 1, 1, 1, 1, 1, 1, 1, 1, 1, 1, 1, 1, 1, 1, 1, 1, 1, 1,\n",
      "         1, 1, 1, 1, 1, 1, 1, 1, 1, 1, 1, 1, 1, 1, 1, 1, 1, 1, 1, 1, 1, 1, 1, 1,\n",
      "         1, 1, 1, 1, 1, 1, 1, 1, 1, 1, 1, 1, 1, 1, 1, 1, 1, 1, 1, 1, 1, 1, 1, 1,\n",
      "         1, 1, 1, 1, 1, 1, 1, 1, 1, 1, 1, 1, 1, 1, 1, 1, 1, 1, 1, 1, 1, 1, 1, 1,\n",
      "         1, 1, 1, 1, 1, 1, 1, 1, 1, 1, 1, 1, 1, 1, 1, 1, 1, 1, 1, 1, 1, 1, 1, 1,\n",
      "         1, 1, 1, 1, 1, 1, 1, 1, 1, 1, 1, 1, 1, 1, 1, 1, 1, 1, 1, 1, 1, 1, 1, 1,\n",
      "         1, 1, 1, 1, 1, 1, 1, 1, 1, 1, 1, 1, 1, 1, 1, 1, 1, 1, 1, 1, 1, 1, 1, 1,\n",
      "         1, 1, 1, 1, 1, 1, 1, 1, 1, 1, 1, 1, 1, 1, 1, 1, 1, 1, 1, 1, 1, 1, 1, 1,\n",
      "         1, 1, 1, 1, 1, 1, 1, 1, 1, 1, 1, 1, 1, 1, 1, 1, 1, 1, 1, 1, 1, 1, 1, 1,\n",
      "         1, 1, 1, 1, 1, 1, 1, 1, 1, 1, 1, 0, 0, 0, 0, 0, 0, 0, 0, 0, 0, 0, 0, 0,\n",
      "         0, 0, 0, 0, 0, 0, 0, 0, 0, 0, 0, 0, 0, 0, 0, 0, 0, 0, 0, 0, 0, 0, 0, 0,\n",
      "         0, 0, 0, 0, 0, 0, 0, 0, 0, 0, 0, 0, 0, 0, 0, 0, 0, 0, 0, 0, 0, 0, 0, 0,\n",
      "         0, 0, 0, 0, 0, 0, 0, 0, 0, 0, 0, 0, 0, 0, 0, 0, 0, 0, 0, 0, 0, 0, 0, 0,\n",
      "         0, 0, 0, 0, 0, 0, 0, 0, 0, 0, 0, 0, 0, 0, 0, 0, 0, 0, 0, 0, 0, 0, 0, 0,\n",
      "         0, 0, 0, 0, 0, 0, 0, 0]]), 'labels': tensor([0])}\n"
     ]
    }
   ],
   "source": [
    "for i, batch in enumerate(train_dataloader):\n",
    "    print(f\"Batch {i}: {batch}\")\n",
    "    break"
   ]
  },
  {
   "cell_type": "code",
   "execution_count": null,
   "id": "c96a7072-876f-4ec6-a144-58702f014d58",
   "metadata": {},
   "outputs": [],
   "source": []
  },
  {
   "cell_type": "code",
   "execution_count": null,
   "id": "e4cc837d-35f4-4e7e-abed-d5257867a5d8",
   "metadata": {},
   "outputs": [],
   "source": []
  }
 ],
 "metadata": {
  "kernelspec": {
   "display_name": "Python 3",
   "language": "python",
   "name": "python3"
  },
  "language_info": {
   "codemirror_mode": {
    "name": "ipython",
    "version": 3
   },
   "file_extension": ".py",
   "mimetype": "text/x-python",
   "name": "python",
   "nbconvert_exporter": "python",
   "pygments_lexer": "ipython3",
   "version": "3.8.10"
  }
 },
 "nbformat": 4,
 "nbformat_minor": 5
}
