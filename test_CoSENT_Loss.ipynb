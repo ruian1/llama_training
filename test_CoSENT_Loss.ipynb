{
 "cells": [
  {
   "cell_type": "code",
   "execution_count": 1,
   "metadata": {},
   "outputs": [],
   "source": [
    "import torch"
   ]
  },
  {
   "cell_type": "code",
   "execution_count": 2,
   "metadata": {},
   "outputs": [],
   "source": [
    "def calc_loss(y_true, y_pred):\n",
    "    # 1. 取出真实的标签\n",
    "    # y_true = y_true[::2]    # tensor([1, 0, 1]) 真实的标签\n",
    "\n",
    "    # 2. 对输出的句子向量进行l2归一化   后面只需要对应为相乘  就可以得到cos值了\n",
    "    norms = (y_pred ** 2).sum(axis=1, keepdims=True) ** 0.5\n",
    "    # y_pred = y_pred / torch.clip(norms, 1e-8, torch.inf)\n",
    "    y_pred = y_pred / norms\n",
    "\n",
    "    # 3. 奇偶向量相乘\n",
    "    y_pred = torch.sum(y_pred[::2] * y_pred[1::2], dim=1) * 20\n",
    "\n",
    "    # 4. 取出负例-正例的差值\n",
    "    y_pred = y_pred[:, None] - y_pred[None, :]  # 这里是算出所有位置 两两之间余弦的差值\n",
    "    # 矩阵中的第i行j列  表示的是第i个余弦值-第j个余弦值\n",
    "    y_true = y_true[:, None] < y_true[None, :]   # 取出负例-正例的差值\n",
    "    y_true = y_true.float()\n",
    "    y_pred = y_pred - (1 - y_true) * 1e12\n",
    "    y_pred = y_pred.view(-1)\n",
    "        \n",
    "    if torch.cuda.is_available():\n",
    "        y_pred = torch.cat((torch.tensor([0]).float().cuda(), y_pred), dim=0)  # 这里加0是因为e^0 = 1相当于在log中加了1\n",
    "    else:\n",
    "        y_pred = torch.cat((torch.tensor([0]).float(), y_pred), dim=0)  # 这里加0是因为e^0 = 1相当于在log中加了1\n",
    "        \n",
    "    return torch.logsumexp(y_pred, dim=0)"
   ]
  },
  {
   "cell_type": "code",
   "execution_count": 3,
   "metadata": {},
   "outputs": [],
   "source": [
    "device = 'cuda'\n",
    "y_true = torch.tensor([0])\n",
    "# y_pred = torch.tensor([0, 1, 0, 1, 0, 1])\n",
    "y_pred = torch.tensor([[0.0065, 0.0138]])\n",
    "\n",
    "y_true = y_true.to(device)\n",
    "y_pred = y_pred.to(device)"
   ]
  },
  {
   "cell_type": "code",
   "execution_count": 4,
   "metadata": {},
   "outputs": [
    {
     "name": "stdout",
     "output_type": "stream",
     "text": [
      "y_true tensor([[0.]], device='cuda:0')\n",
      "y_pred tensor([], device='cuda:0')\n"
     ]
    },
    {
     "data": {
      "text/plain": [
       "tensor(0., device='cuda:0')"
      ]
     },
     "execution_count": 4,
     "metadata": {},
     "output_type": "execute_result"
    }
   ],
   "source": [
    "calc_loss(y_true, y_pred) "
   ]
  },
  {
   "cell_type": "code",
   "execution_count": null,
   "metadata": {},
   "outputs": [],
   "source": []
  }
 ],
 "metadata": {
  "kernelspec": {
   "display_name": "Python 3.10.10 ('llama')",
   "language": "python",
   "name": "python3"
  },
  "language_info": {
   "codemirror_mode": {
    "name": "ipython",
    "version": 3
   },
   "file_extension": ".py",
   "mimetype": "text/x-python",
   "name": "python",
   "nbconvert_exporter": "python",
   "pygments_lexer": "ipython3",
   "version": "3.10.10"
  },
  "orig_nbformat": 4,
  "vscode": {
   "interpreter": {
    "hash": "8a0d1c1dc1cf39263db20f7bf8f091f7d1446c0785acd9b56f794b1a2b1dd479"
   }
  }
 },
 "nbformat": 4,
 "nbformat_minor": 2
}
