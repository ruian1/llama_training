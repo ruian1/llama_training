{
 "cells": [
  {
   "cell_type": "code",
   "execution_count": 1,
   "metadata": {},
   "outputs": [],
   "source": [
    "import os\n",
    "import json\n",
    "\n",
    "import pandas as pd"
   ]
  },
  {
   "cell_type": "code",
   "execution_count": 2,
   "metadata": {},
   "outputs": [],
   "source": [
    "FOLDER_PATH = os.getcwd()\n",
    "input_file_name = \"data/aisourcing_20220102_20220103.json\"\n",
    "input_file_path = os.path.join(FOLDER_PATH, input_file_name)"
   ]
  },
  {
   "cell_type": "code",
   "execution_count": 3,
   "metadata": {},
   "outputs": [],
   "source": [
    "\n",
    "def read_data(file_path):\n",
    "    data_list = []\n",
    "\n",
    "    f_r = open(file_path, mode=\"r\", encoding=\"utf-8\")\n",
    "    line = f_r.readline().strip()\n",
    "\n",
    "    while line:\n",
    "        line_json = json.loads(line)\n",
    "        task_id = line_json[\"task_id\"]\n",
    "        # profile_id = line_json[\"profile_id\"]\n",
    "        astask = line_json[\"astask\"]\n",
    "        profile = line_json[\"profile\"]\n",
    "        label = line_json[\"label\"]\n",
    "\n",
    "        tmp_data = [task_id, astask, profile,  label]\n",
    "        data_list.append(tmp_data)\n",
    "\n",
    "        line = f_r.readline().strip()\n",
    "\n",
    "    f_r.close()\n",
    "\n",
    "    return data_list"
   ]
  },
  {
   "cell_type": "code",
   "execution_count": 4,
   "metadata": {},
   "outputs": [
    {
     "ename": "KeyError",
     "evalue": "'task_id'",
     "output_type": "error",
     "traceback": [
      "\u001b[0;31m---------------------------------------------------------------------------\u001b[0m",
      "\u001b[0;31mKeyError\u001b[0m                                  Traceback (most recent call last)",
      "Cell \u001b[0;32mIn[4], line 1\u001b[0m\n\u001b[0;32m----> 1\u001b[0m curr_data_list \u001b[39m=\u001b[39m read_data(input_file_path)\n",
      "Cell \u001b[0;32mIn[3], line 9\u001b[0m, in \u001b[0;36mread_data\u001b[0;34m(file_path)\u001b[0m\n\u001b[1;32m      7\u001b[0m \u001b[39mwhile\u001b[39;00m line:\n\u001b[1;32m      8\u001b[0m     line_json \u001b[39m=\u001b[39m json\u001b[39m.\u001b[39mloads(line)\n\u001b[0;32m----> 9\u001b[0m     task_id \u001b[39m=\u001b[39m line_json[\u001b[39m\"\u001b[39;49m\u001b[39mtask_id\u001b[39;49m\u001b[39m\"\u001b[39;49m]\n\u001b[1;32m     10\u001b[0m     \u001b[39m# profile_id = line_json[\"profile_id\"]\u001b[39;00m\n\u001b[1;32m     11\u001b[0m     astask \u001b[39m=\u001b[39m line_json[\u001b[39m\"\u001b[39m\u001b[39mastask\u001b[39m\u001b[39m\"\u001b[39m]\n",
      "\u001b[0;31mKeyError\u001b[0m: 'task_id'"
     ]
    }
   ],
   "source": [
    "curr_data_list = read_data(input_file_path)"
   ]
  },
  {
   "cell_type": "code",
   "execution_count": null,
   "metadata": {},
   "outputs": [],
   "source": [
    "len(curr_data_list)"
   ]
  },
  {
   "cell_type": "code",
   "execution_count": null,
   "metadata": {},
   "outputs": [],
   "source": [
    "df = pd.DataFrame(curr_data_list, columns=[\"task_id\", \"astask\", \"profile\", \"label\"])"
   ]
  },
  {
   "cell_type": "code",
   "execution_count": null,
   "metadata": {},
   "outputs": [],
   "source": [
    "groups = df.groupby(\"task_id\")"
   ]
  },
  {
   "cell_type": "code",
   "execution_count": null,
   "metadata": {},
   "outputs": [],
   "source": [
    "for _, group_data in groups:\n",
    "    \n",
    "    tmp_task_id_list = group_data[\"task_id\"].values.tolist()\n",
    "    tmp_astask_list = group_data[\"astask\"].values.tolist()    \n",
    "    tmp_profile_list = group_data[\"profile\"].values.tolist()\n",
    "    tmp_label_list = group_data[\"label\"].values.tolist()\n",
    "\n",
    "    tmp_uni_task_id = list(set(tmp_task_id_list))\n",
    "        \n",
    "    break"
   ]
  },
  {
   "cell_type": "code",
   "execution_count": 8,
   "metadata": {},
   "outputs": [],
   "source": [
    "shit = {\"task_id\": \"sh_56e51f70-6c07-11ec-b4f5-1b60bba869cf\", \"profile_id\": \"oxy_031dbc39-a67c-46d3-b47b-def0e21e9527\", \"astask\": \"principal software engineer or staff software engineer with 4-6 or 6-8 years of experience in the areas of united states\", \"profile\": \"Title:senior software engineer^Highlight^University Of Florida CS student, 4years of Experience with Java and other J2EE technologies, Received awards during my previous jobs || \\u2022 Among top 1% of coder on codefights.com ( https://codefights.com/profile/shesh_nath_m  )^Skills^operating systems, ibm bpm, db2, servlets, c, ibm db2, selenium, docker, panda, state, cassandra, tensorflow, eclipse, unix, j2ee, english, elasticsearch, san, data structures, gwt, jenkins, agile methodologies, web services, git, akka, windows 7, junit, switch, shell, websphere application server,elixir, oracle, platform, tomcat, test cases, business process management, html, microservices, core java, apache maven, rdbms, analytics, python, shell scripting, bash, sql, code, natural language, hudson, jira, scrum, flink, devops, full-time, spring, machine learning, javascript, payment, database, developer, java, jboss application server, testing, hibernate, castor, unit testing, winscp, version control, apache tomcat, java enterprise edition, engineering, linux, sentiment analysis, software, jboss, ibm websphere application server, aws, maven, scala, json, windows xp, deployment, prototype, jupyter notebook, twitter, backend, svn, http, hindi, software engineering, deep learning, putty, microsoft windows, speech, big data, technology, oracle database, search engine^Work Experience^Senior Software Engineer at Instacart,  Jan 2020-present ^ Software Development Engineer at Amazon,  Dec 2018-Jan 2020 ^ Software Engineer at LeanTaaS,  May 2018-Dec 2018 ^ Developer at University of Florida,Mar 2017-Apr 2018 ^ \\u2022As a designer, responsible for analyzing and understanding requirements and identifying and planning for the required tasks to meet the expectation using agile methodology.^\\u2022As a developer, responsible for development of code modules, unit-testing and providing support. The task involves development to deliver high-performing, maintainable and extensible code.^Associate at MSCI Inc.,  Aug 2014-Aug 2016 ^ \\u2022 Implemented feature to switch database based on the context, thus resulting in reduction of number of application server required to test models.^\\u2022 Implemented features to submit jobs using web interface and also reporting charts to check the status and the details about the jobs.^\\u2022 Integrated multiple web application to single web portal.^\\u2022 Enhanced the PDF reports deliveredto client.^\\u2022 Automated the process of script deployment using Hudson build.^\\u2022 Developed Selenium Test Framework for testing UI and added JUnit test cases forexisting code.Associate Software Engineer at Misys,  Jul 2012-Aug 2014 ^ \\u2022 Improved the performance of web service call (i.e. 85 seconds to 6 seconds.) and received award for the same.^\\u2022 Improved the application server startup time from 10 mins to 3 mins.^\\u2022 Improved task retrieval time from IBM BPM.^\\u2022 Implemented previous button functionality for maintaining the states of the UI components on screen.^Educations^University of Florida , Master of Science (M.S.) in Computer Science 2016-2018^Birla Institute of Technology , Bachelor in Engineering in Computer Science and Engineering  2008-2012^Projects^Twitter Prototype ,  September 2017-December2017 ^ \\u2022 Designed and developed a twitter like engine^\\u2022 The engine supports features like registration, login, tweet, retweet, subscribe, hashtags, mentions,etc.^Bankfusion ,  July 2012-August 2014 ^ \\u2022 Improved the performance of web service call (i.e. 85 seconds to 6 seconds.) and received award for the same.^\\u2022 Improved the application server startup time from 10 mins to 3 mins.^\\u2022 Improved task retrieval time from IBM BPM.^\\u2022 Implemented previous button functionality for maintaining the states of the UI components on screen.^Sentiment Analysis and Reporting ,  September 2016-December 2016 ^ \\u2022 Designed and developed a web application to analyze the sentiment values for a given topic.^\\u2022 Implemented different analytics charts to show multiple details about tweets for the topic.\", \"label\": 1}"
   ]
  },
  {
   "cell_type": "code",
   "execution_count": 9,
   "metadata": {},
   "outputs": [
    {
     "data": {
      "text/plain": [
       "dict_keys(['task_id', 'profile_id', 'astask', 'profile', 'label'])"
      ]
     },
     "execution_count": 9,
     "metadata": {},
     "output_type": "execute_result"
    }
   ],
   "source": [
    "shit.keys()"
   ]
  },
  {
   "cell_type": "code",
   "execution_count": null,
   "metadata": {},
   "outputs": [],
   "source": []
  }
 ],
 "metadata": {
  "kernelspec": {
   "display_name": "Python 3.10.10 ('llama')",
   "language": "python",
   "name": "python3"
  },
  "language_info": {
   "codemirror_mode": {
    "name": "ipython",
    "version": 3
   },
   "file_extension": ".py",
   "mimetype": "text/x-python",
   "name": "python",
   "nbconvert_exporter": "python",
   "pygments_lexer": "ipython3",
   "version": "3.10.10"
  },
  "orig_nbformat": 4,
  "vscode": {
   "interpreter": {
    "hash": "8a0d1c1dc1cf39263db20f7bf8f091f7d1446c0785acd9b56f794b1a2b1dd479"
   }
  }
 },
 "nbformat": 4,
 "nbformat_minor": 2
}
