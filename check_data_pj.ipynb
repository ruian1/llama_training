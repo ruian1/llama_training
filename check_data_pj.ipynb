{
 "cells": [
  {
   "cell_type": "code",
   "execution_count": null,
   "metadata": {},
   "outputs": [],
   "source": [
    "import os\n",
    "import json\n",
    "\n",
    "import pandas as pd"
   ]
  },
  {
   "cell_type": "code",
   "execution_count": null,
   "metadata": {},
   "outputs": [],
   "source": [
    "FOLDER_PATH = os.getcwd()\n",
    "input_file_name = \"data/aisourcing_20220102_20220103.json\"\n",
    "input_file_path = os.path.join(FOLDER_PATH, input_file_name)"
   ]
  },
  {
   "cell_type": "code",
   "execution_count": null,
   "metadata": {},
   "outputs": [],
   "source": [
    "\n",
    "def read_data(file_path):\n",
    "    data_list = []\n",
    "\n",
    "    f_r = open(file_path, mode=\"r\", encoding=\"utf-8\")\n",
    "    line = f_r.readline().strip()\n",
    "\n",
    "    while line:\n",
    "        line_json = json.loads(line)\n",
    "        task_id = line_json[\"task_id\"]\n",
    "        # profile_id = line_json[\"profile_id\"]\n",
    "        astask = line_json[\"astask\"]\n",
    "        profile = line_json[\"profile\"]\n",
    "        label = line_json[\"label\"]\n",
    "\n",
    "        tmp_data = [task_id, astask, profile,  label]\n",
    "        data_list.append(tmp_data)\n",
    "\n",
    "        line = f_r.readline().strip()\n",
    "\n",
    "    f_r.close()\n",
    "\n",
    "    return data_list"
   ]
  },
  {
   "cell_type": "code",
   "execution_count": null,
   "metadata": {},
   "outputs": [],
   "source": [
    "curr_data_list = read_data(input_file_path)"
   ]
  },
  {
   "cell_type": "code",
   "execution_count": null,
   "metadata": {},
   "outputs": [],
   "source": [
    "len(curr_data_list)"
   ]
  },
  {
   "cell_type": "code",
   "execution_count": null,
   "metadata": {},
   "outputs": [],
   "source": [
    "df = pd.DataFrame(curr_data_list, columns=[\"task_id\", \"astask\", \"profile\", \"label\"])"
   ]
  },
  {
   "cell_type": "code",
   "execution_count": null,
   "metadata": {},
   "outputs": [],
   "source": [
    "groups = df.groupby(\"task_id\")"
   ]
  },
  {
   "cell_type": "code",
   "execution_count": null,
   "metadata": {},
   "outputs": [],
   "source": [
    "for _, group_data in groups:\n",
    "    \n",
    "    tmp_task_id_list = group_data[\"task_id\"].values.tolist()\n",
    "    tmp_astask_list = group_data[\"astask\"].values.tolist()    \n",
    "    tmp_profile_list = group_data[\"profile\"].values.tolist()\n",
    "    tmp_label_list = group_data[\"label\"].values.tolist()\n",
    "\n",
    "    tmp_uni_task_id = list(set(tmp_task_id_list))\n",
    "        \n",
    "    break"
   ]
  },
  {
   "cell_type": "code",
   "execution_count": null,
   "metadata": {},
   "outputs": [],
   "source": []
  }
 ],
 "metadata": {
  "kernelspec": {
   "display_name": "Python 3.10.10 ('llama')",
   "language": "python",
   "name": "python3"
  },
  "language_info": {
   "codemirror_mode": {
    "name": "ipython",
    "version": 3
   },
   "file_extension": ".py",
   "mimetype": "text/x-python",
   "name": "python",
   "nbconvert_exporter": "python",
   "pygments_lexer": "ipython3",
   "version": "3.10.10"
  },
  "orig_nbformat": 4,
  "vscode": {
   "interpreter": {
    "hash": "8a0d1c1dc1cf39263db20f7bf8f091f7d1446c0785acd9b56f794b1a2b1dd479"
   }
  }
 },
 "nbformat": 4,
 "nbformat_minor": 2
}
